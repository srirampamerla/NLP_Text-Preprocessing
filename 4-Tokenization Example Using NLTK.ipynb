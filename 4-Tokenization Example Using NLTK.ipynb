{
 "cells": [
  {
   "cell_type": "code",
   "execution_count": 183,
   "metadata": {},
   "outputs": [
    {
     "name": "stdout",
     "output_type": "stream",
     "text": [
      "Requirement already satisfied: nltk in c:\\users\\hp\\anaconda3\\lib\\site-packages (3.7)\n",
      "Requirement already satisfied: tqdm in c:\\users\\hp\\anaconda3\\lib\\site-packages (from nltk) (4.64.0)\n",
      "Requirement already satisfied: joblib in c:\\users\\hp\\anaconda3\\lib\\site-packages (from nltk) (1.4.2)\n",
      "Requirement already satisfied: regex>=2021.8.3 in c:\\users\\hp\\anaconda3\\lib\\site-packages (from nltk) (2022.3.15)\n",
      "Requirement already satisfied: click in c:\\users\\hp\\anaconda3\\lib\\site-packages (from nltk) (8.0.4)\n",
      "Requirement already satisfied: colorama in c:\\users\\hp\\anaconda3\\lib\\site-packages (from click->nltk) (0.4.4)\n"
     ]
    },
    {
     "name": "stderr",
     "output_type": "stream",
     "text": [
      "WARNING: Ignoring invalid distribution -atplotlib (c:\\users\\hp\\anaconda3\\lib\\site-packages)\n",
      "WARNING: Ignoring invalid distribution -atplotlib (c:\\users\\hp\\anaconda3\\lib\\site-packages)\n",
      "WARNING: Ignoring invalid distribution -atplotlib (c:\\users\\hp\\anaconda3\\lib\\site-packages)\n",
      "WARNING: Ignoring invalid distribution -atplotlib (c:\\users\\hp\\anaconda3\\lib\\site-packages)\n",
      "WARNING: Ignoring invalid distribution -atplotlib (c:\\users\\hp\\anaconda3\\lib\\site-packages)\n",
      "WARNING: Ignoring invalid distribution -atplotlib (c:\\users\\hp\\anaconda3\\lib\\site-packages)\n"
     ]
    }
   ],
   "source": [
    "!pip install nltk"
   ]
  },
  {
   "cell_type": "code",
   "execution_count": 218,
   "metadata": {},
   "outputs": [],
   "source": [
    "#corpus or paragraph\n",
    "corpus=\"\"\"Narendra Damodardas Modi (Gujarati: [ˈnəɾendɾə dɑmodəɾˈdɑs ˈmodiː] ⓘ; born 17 September 1950)[a] is an Indian politician who has served as the 14th Prime Minister of India since 26 May 2014. Modi was the chief minister of Gujarat from 2001 to 2014 and is the Member of Parliament (MP) for Varanasi. He is a member of the Bharatiya Janata Party (BJP) and of the Rashtriya Swayamsevak Sangh (RSS), a right wing Hindu nationalist paramilitary volunteer organisation. He is the longest-serving prime minister outside the Indian National Congress.\n",
    "\n",
    "Modi was born and raised in Vadnagar in northeastern Gujarat, where he completed his secondary education. He was introduced to the RSS at the age of eight. At the age of 18, he was married to Jashodaben Modi, whom he abandoned soon after, only publicly acknowledging her four decades later when legally required to do so. Modi became a full-time worker for the RSS in Gujarat in 1971. The RSS assigned him to the BJP in 1985 and he rose through the party hierarchy, becoming general secretary in 1998.[b] In 2001, Modi was appointed Chief Minister of Gujarat and elected to the legislative assembly soon after. His administration is considered complicit in the 2002 Gujarat riots,[c] and has been criticised for its management of the crisis. According to official records, a little over 1,000 people were killed, three-quarters of whom were Muslim; independent sources estimated 2,000 deaths, mostly Muslim.[11] A Special Investigation Team appointed by the Supreme Court of India in 2012 found no evidence to initiate prosecution proceedings against him.[d] While his policies as chief minister were credited for encouraging economic growth, his administration was criticised for failing to significantly improve health, poverty and education indices in the state.[e]\n",
    "\"\"\""
   ]
  },
  {
   "cell_type": "code",
   "execution_count": 185,
   "metadata": {},
   "outputs": [
    {
     "name": "stdout",
     "output_type": "stream",
     "text": [
      "Narendra Damodardas Modi (Gujarati: [ˈnəɾendɾə dɑmodəɾˈdɑs ˈmodiː] ⓘ; born 17 September 1950)[a] is an Indian politician who has served as the 14th Prime Minister of India since 26 May 2014. Modi was the chief minister of Gujarat from 2001 to 2014 and is the Member of Parliament (MP) for Varanasi. He is a member of the Bharatiya Janata Party (BJP) and of the Rashtriya Swayamsevak Sangh (RSS), a right wing Hindu nationalist paramilitary volunteer organisation. He is the longest-serving prime minister outside the Indian National Congress.\n",
      "\n",
      "Modi was born and raised in Vadnagar in northeastern Gujarat, where he completed his secondary education. He was introduced to the RSS at the age of eight. At the age of 18, he was married to Jashodaben Modi, whom he abandoned soon after, only publicly acknowledging her four decades later when legally required to do so. Modi became a full-time worker for the RSS in Gujarat in 1971. The RSS assigned him to the BJP in 1985 and he rose through the party hierarchy, becoming general secretary in 1998.[b] In 2001, Modi was appointed Chief Minister of Gujarat and elected to the legislative assembly soon after. His administration is considered complicit in the 2002 Gujarat riots,[c] and has been criticised for its management of the crisis. According to official records, a little over 1,000 people were killed, three-quarters of whom were Muslim; independent sources estimated 2,000 deaths, mostly Muslim.[11] A Special Investigation Team appointed by the Supreme Court of India in 2012 found no evidence to initiate prosecution proceedings against him.[d] While his policies as chief minister were credited for encouraging economic growth, his administration was criticised for failing to significantly improve health, poverty and education indices in the state.[e]\n",
      "\n"
     ]
    }
   ],
   "source": [
    "print(corpus)"
   ]
  },
  {
   "cell_type": "code",
   "execution_count": 219,
   "metadata": {},
   "outputs": [
    {
     "data": {
      "application/javascript": [
       "\n",
       "        if (window._pyforest_update_imports_cell) { window._pyforest_update_imports_cell('import nltk'); }\n",
       "    "
      ],
      "text/plain": [
       "<IPython.core.display.Javascript object>"
      ]
     },
     "metadata": {},
     "output_type": "display_data"
    },
    {
     "name": "stderr",
     "output_type": "stream",
     "text": [
      "[nltk_data] Downloading package punkt to\n",
      "[nltk_data]     C:\\Users\\HP\\AppData\\Roaming\\nltk_data...\n",
      "[nltk_data]   Package punkt is already up-to-date!\n"
     ]
    }
   ],
   "source": [
    "##  Tokenization\n",
    "## Sentence-->paragraphs\n",
    "nltk.download('punkt') #dot or period or point\n",
    "from nltk.tokenize import sent_tokenize # COnvert paragraph  into senetecnce"
   ]
  },
  {
   "cell_type": "code",
   "execution_count": 220,
   "metadata": {},
   "outputs": [],
   "source": [
    "documents=sent_tokenize(corpus)"
   ]
  },
  {
   "cell_type": "code",
   "execution_count": 221,
   "metadata": {},
   "outputs": [
    {
     "data": {
      "text/plain": [
       "list"
      ]
     },
     "execution_count": 221,
     "metadata": {},
     "output_type": "execute_result"
    }
   ],
   "source": [
    "type(documents)"
   ]
  },
  {
   "cell_type": "code",
   "execution_count": 222,
   "metadata": {},
   "outputs": [
    {
     "name": "stdout",
     "output_type": "stream",
     "text": [
      "Narendra Damodardas Modi (Gujarati: [ˈnəɾendɾə dɑmodəɾˈdɑs ˈmodiː] ⓘ; born 17 September 1950)[a] is an Indian politician who has served as the 14th Prime Minister of India since 26 May 2014.\n",
      "Modi was the chief minister of Gujarat from 2001 to 2014 and is the Member of Parliament (MP) for Varanasi.\n",
      "He is a member of the Bharatiya Janata Party (BJP) and of the Rashtriya Swayamsevak Sangh (RSS), a right wing Hindu nationalist paramilitary volunteer organisation.\n",
      "He is the longest-serving prime minister outside the Indian National Congress.\n",
      "Modi was born and raised in Vadnagar in northeastern Gujarat, where he completed his secondary education.\n",
      "He was introduced to the RSS at the age of eight.\n",
      "At the age of 18, he was married to Jashodaben Modi, whom he abandoned soon after, only publicly acknowledging her four decades later when legally required to do so.\n",
      "Modi became a full-time worker for the RSS in Gujarat in 1971.\n",
      "The RSS assigned him to the BJP in 1985 and he rose through the party hierarchy, becoming general secretary in 1998.\n",
      "[b] In 2001, Modi was appointed Chief Minister of Gujarat and elected to the legislative assembly soon after.\n",
      "His administration is considered complicit in the 2002 Gujarat riots,[c] and has been criticised for its management of the crisis.\n",
      "According to official records, a little over 1,000 people were killed, three-quarters of whom were Muslim; independent sources estimated 2,000 deaths, mostly Muslim.\n",
      "[11] A Special Investigation Team appointed by the Supreme Court of India in 2012 found no evidence to initiate prosecution proceedings against him.\n",
      "[d] While his policies as chief minister were credited for encouraging economic growth, his administration was criticised for failing to significantly improve health, poverty and education indices in the state.\n",
      "[e]\n"
     ]
    }
   ],
   "source": [
    "for sentence in documents:\n",
    "    print(sentence)"
   ]
  },
  {
   "cell_type": "code",
   "execution_count": 223,
   "metadata": {},
   "outputs": [],
   "source": [
    "## Tokenization \n",
    "## Paragraph-->words\n",
    "## sentence--->words\n",
    "from nltk.tokenize import word_tokenize"
   ]
  },
  {
   "cell_type": "code",
   "execution_count": 224,
   "metadata": {},
   "outputs": [
    {
     "name": "stdout",
     "output_type": "stream",
     "text": [
      "len is: 344\n"
     ]
    }
   ],
   "source": [
    "word_tokenize(corpus)\n",
    "print(\"len is:\",len(word_tokenize(corpus)))"
   ]
  },
  {
   "cell_type": "code",
   "execution_count": 225,
   "metadata": {},
   "outputs": [
    {
     "name": "stdout",
     "output_type": "stream",
     "text": [
      "['Narendra', 'Damodardas', 'Modi', '(', 'Gujarati', ':', '[', 'ˈnəɾendɾə', 'dɑmodəɾˈdɑs', 'ˈmodiː', ']', 'ⓘ', ';', 'born', '17', 'September', '1950', ')', '[', 'a', ']', 'is', 'an', 'Indian', 'politician', 'who', 'has', 'served', 'as', 'the', '14th', 'Prime', 'Minister', 'of', 'India', 'since', '26', 'May', '2014', '.']\n",
      "len is: 40\n",
      "['Modi', 'was', 'the', 'chief', 'minister', 'of', 'Gujarat', 'from', '2001', 'to', '2014', 'and', 'is', 'the', 'Member', 'of', 'Parliament', '(', 'MP', ')', 'for', 'Varanasi', '.']\n",
      "len is: 23\n",
      "['He', 'is', 'a', 'member', 'of', 'the', 'Bharatiya', 'Janata', 'Party', '(', 'BJP', ')', 'and', 'of', 'the', 'Rashtriya', 'Swayamsevak', 'Sangh', '(', 'RSS', ')', ',', 'a', 'right', 'wing', 'Hindu', 'nationalist', 'paramilitary', 'volunteer', 'organisation', '.']\n",
      "len is: 31\n",
      "['He', 'is', 'the', 'longest-serving', 'prime', 'minister', 'outside', 'the', 'Indian', 'National', 'Congress', '.']\n",
      "len is: 12\n",
      "['Modi', 'was', 'born', 'and', 'raised', 'in', 'Vadnagar', 'in', 'northeastern', 'Gujarat', ',', 'where', 'he', 'completed', 'his', 'secondary', 'education', '.']\n",
      "len is: 18\n",
      "['He', 'was', 'introduced', 'to', 'the', 'RSS', 'at', 'the', 'age', 'of', 'eight', '.']\n",
      "len is: 12\n",
      "['At', 'the', 'age', 'of', '18', ',', 'he', 'was', 'married', 'to', 'Jashodaben', 'Modi', ',', 'whom', 'he', 'abandoned', 'soon', 'after', ',', 'only', 'publicly', 'acknowledging', 'her', 'four', 'decades', 'later', 'when', 'legally', 'required', 'to', 'do', 'so', '.']\n",
      "len is: 33\n",
      "['Modi', 'became', 'a', 'full-time', 'worker', 'for', 'the', 'RSS', 'in', 'Gujarat', 'in', '1971', '.']\n",
      "len is: 13\n",
      "['The', 'RSS', 'assigned', 'him', 'to', 'the', 'BJP', 'in', '1985', 'and', 'he', 'rose', 'through', 'the', 'party', 'hierarchy', ',', 'becoming', 'general', 'secretary', 'in', '1998', '.']\n",
      "len is: 23\n",
      "['[', 'b', ']', 'In', '2001', ',', 'Modi', 'was', 'appointed', 'Chief', 'Minister', 'of', 'Gujarat', 'and', 'elected', 'to', 'the', 'legislative', 'assembly', 'soon', 'after', '.']\n",
      "len is: 22\n",
      "['His', 'administration', 'is', 'considered', 'complicit', 'in', 'the', '2002', 'Gujarat', 'riots', ',', '[', 'c', ']', 'and', 'has', 'been', 'criticised', 'for', 'its', 'management', 'of', 'the', 'crisis', '.']\n",
      "len is: 25\n",
      "['According', 'to', 'official', 'records', ',', 'a', 'little', 'over', '1,000', 'people', 'were', 'killed', ',', 'three-quarters', 'of', 'whom', 'were', 'Muslim', ';', 'independent', 'sources', 'estimated', '2,000', 'deaths', ',', 'mostly', 'Muslim', '.']\n",
      "len is: 28\n",
      "['[', '11', ']', 'A', 'Special', 'Investigation', 'Team', 'appointed', 'by', 'the', 'Supreme', 'Court', 'of', 'India', 'in', '2012', 'found', 'no', 'evidence', 'to', 'initiate', 'prosecution', 'proceedings', 'against', 'him', '.']\n",
      "len is: 26\n",
      "['[', 'd', ']', 'While', 'his', 'policies', 'as', 'chief', 'minister', 'were', 'credited', 'for', 'encouraging', 'economic', 'growth', ',', 'his', 'administration', 'was', 'criticised', 'for', 'failing', 'to', 'significantly', 'improve', 'health', ',', 'poverty', 'and', 'education', 'indices', 'in', 'the', 'state', '.']\n",
      "len is: 35\n",
      "['[', 'e', ']']\n",
      "len is: 3\n"
     ]
    }
   ],
   "source": [
    "for sentence in documents:\n",
    "    \n",
    "    print(word_tokenize(sentence))\n",
    "    print(\"len is:\",len(word_tokenize(sentence)))"
   ]
  },
  {
   "cell_type": "code",
   "execution_count": 226,
   "metadata": {},
   "outputs": [
    {
     "name": "stdout",
     "output_type": "stream",
     "text": [
      "1. Narendra Damodardas Modi (Gujarati: [ˈnəɾendɾə dɑmodəɾˈdɑs ˈmodiː] ⓘ; born 17 September 1950)[a] is an Indian politician who has served as the 14th Prime Minister of India since 26 May 2014.\n",
      "2. Modi was the chief minister of Gujarat from 2001 to 2014 and is the Member of Parliament (MP) for Varanasi.\n",
      "3. He is a member of the Bharatiya Janata Party (BJP) and of the Rashtriya Swayamsevak Sangh (RSS), a right wing Hindu nationalist paramilitary volunteer organisation.\n",
      "4. He is the longest-serving prime minister outside the Indian National Congress.\n",
      "5. Modi was born and raised in Vadnagar in northeastern Gujarat, where he completed his secondary education.\n",
      "6. He was introduced to the RSS at the age of eight.\n",
      "7. At the age of 18, he was married to Jashodaben Modi, whom he abandoned soon after, only publicly acknowledging her four decades later when legally required to do so.\n",
      "8. Modi became a full-time worker for the RSS in Gujarat in 1971.\n",
      "9. The RSS assigned him to the BJP in 1985 and he rose through the party hierarchy, becoming general secretary in 1998.\n",
      "10. [b] In 2001, Modi was appointed Chief Minister of Gujarat and elected to the legislative assembly soon after.\n",
      "11. His administration is considered complicit in the 2002 Gujarat riots,[c] and has been criticised for its management of the crisis.\n",
      "12. According to official records, a little over 1,000 people were killed, three-quarters of whom were Muslim; independent sources estimated 2,000 deaths, mostly Muslim.\n",
      "13. [11] A Special Investigation Team appointed by the Supreme Court of India in 2012 found no evidence to initiate prosecution proceedings against him.\n",
      "14. [d] While his policies as chief minister were credited for encouraging economic growth, his administration was criticised for failing to significantly improve health, poverty and education indices in the state.\n",
      "15. [e]\n"
     ]
    }
   ],
   "source": [
    "sentences=sent_tokenize(corpus)\n",
    "for i, sentence in enumerate(sentences, start=1):\n",
    "    print(f\"{i}. {sentence}\")"
   ]
  },
  {
   "cell_type": "code",
   "execution_count": 227,
   "metadata": {},
   "outputs": [],
   "source": [
    "from nltk.tokenize import wordpunct_tokenize"
   ]
  },
  {
   "cell_type": "code",
   "execution_count": 228,
   "metadata": {},
   "outputs": [
    {
     "name": "stdout",
     "output_type": "stream",
     "text": [
      "len is: 344\n"
     ]
    }
   ],
   "source": [
    "wordpunct_tokenize(corpus)\n",
    "print(\"len is:\",len(word_tokenize(corpus)))"
   ]
  },
  {
   "cell_type": "markdown",
   "metadata": {},
   "source": [
    "text = \"Hello, world! How's everything?\"\n",
    "\n",
    "\n",
    "o/p: ['Hello', ',', 'world', '!', 'How', \"'\", 's', 'everything', '?']\n"
   ]
  },
  {
   "cell_type": "code",
   "execution_count": 229,
   "metadata": {},
   "outputs": [],
   "source": [
    "from nltk.tokenize import TreebankWordTokenizer"
   ]
  },
  {
   "cell_type": "code",
   "execution_count": 230,
   "metadata": {},
   "outputs": [],
   "source": [
    "tokenizer=TreebankWordTokenizer()"
   ]
  },
  {
   "cell_type": "markdown",
   "metadata": {},
   "source": [
    "This tokenizer splits contractions, handles punctuation separately, and deals with special cases such as splitting \n",
    "\"cannot\" into \"can\" and \"not.\"\n",
    "\n",
    "text = \"They'll save and can't save!\"\n",
    "\n",
    "['They', \"'ll\", 'save', 'and', 'ca', \"n't\", 'save', '!']\n"
   ]
  },
  {
   "cell_type": "code",
   "execution_count": 231,
   "metadata": {},
   "outputs": [
    {
     "data": {
      "text/plain": [
       "['Narendra',\n",
       " 'Damodardas',\n",
       " 'Modi',\n",
       " '(',\n",
       " 'Gujarati',\n",
       " ':',\n",
       " '[',\n",
       " 'ˈnəɾendɾə',\n",
       " 'dɑmodəɾˈdɑs',\n",
       " 'ˈmodiː',\n",
       " ']',\n",
       " 'ⓘ',\n",
       " ';',\n",
       " 'born',\n",
       " '17',\n",
       " 'September',\n",
       " '1950',\n",
       " ')',\n",
       " '[',\n",
       " 'a',\n",
       " ']',\n",
       " 'is',\n",
       " 'an',\n",
       " 'Indian',\n",
       " 'politician',\n",
       " 'who',\n",
       " 'has',\n",
       " 'served',\n",
       " 'as',\n",
       " 'the',\n",
       " '14th',\n",
       " 'Prime',\n",
       " 'Minister',\n",
       " 'of',\n",
       " 'India',\n",
       " 'since',\n",
       " '26',\n",
       " 'May',\n",
       " '2014.',\n",
       " 'Modi',\n",
       " 'was',\n",
       " 'the',\n",
       " 'chief',\n",
       " 'minister',\n",
       " 'of',\n",
       " 'Gujarat',\n",
       " 'from',\n",
       " '2001',\n",
       " 'to',\n",
       " '2014',\n",
       " 'and',\n",
       " 'is',\n",
       " 'the',\n",
       " 'Member',\n",
       " 'of',\n",
       " 'Parliament',\n",
       " '(',\n",
       " 'MP',\n",
       " ')',\n",
       " 'for',\n",
       " 'Varanasi.',\n",
       " 'He',\n",
       " 'is',\n",
       " 'a',\n",
       " 'member',\n",
       " 'of',\n",
       " 'the',\n",
       " 'Bharatiya',\n",
       " 'Janata',\n",
       " 'Party',\n",
       " '(',\n",
       " 'BJP',\n",
       " ')',\n",
       " 'and',\n",
       " 'of',\n",
       " 'the',\n",
       " 'Rashtriya',\n",
       " 'Swayamsevak',\n",
       " 'Sangh',\n",
       " '(',\n",
       " 'RSS',\n",
       " ')',\n",
       " ',',\n",
       " 'a',\n",
       " 'right',\n",
       " 'wing',\n",
       " 'Hindu',\n",
       " 'nationalist',\n",
       " 'paramilitary',\n",
       " 'volunteer',\n",
       " 'organisation.',\n",
       " 'He',\n",
       " 'is',\n",
       " 'the',\n",
       " 'longest-serving',\n",
       " 'prime',\n",
       " 'minister',\n",
       " 'outside',\n",
       " 'the',\n",
       " 'Indian',\n",
       " 'National',\n",
       " 'Congress.',\n",
       " 'Modi',\n",
       " 'was',\n",
       " 'born',\n",
       " 'and',\n",
       " 'raised',\n",
       " 'in',\n",
       " 'Vadnagar',\n",
       " 'in',\n",
       " 'northeastern',\n",
       " 'Gujarat',\n",
       " ',',\n",
       " 'where',\n",
       " 'he',\n",
       " 'completed',\n",
       " 'his',\n",
       " 'secondary',\n",
       " 'education.',\n",
       " 'He',\n",
       " 'was',\n",
       " 'introduced',\n",
       " 'to',\n",
       " 'the',\n",
       " 'RSS',\n",
       " 'at',\n",
       " 'the',\n",
       " 'age',\n",
       " 'of',\n",
       " 'eight.',\n",
       " 'At',\n",
       " 'the',\n",
       " 'age',\n",
       " 'of',\n",
       " '18',\n",
       " ',',\n",
       " 'he',\n",
       " 'was',\n",
       " 'married',\n",
       " 'to',\n",
       " 'Jashodaben',\n",
       " 'Modi',\n",
       " ',',\n",
       " 'whom',\n",
       " 'he',\n",
       " 'abandoned',\n",
       " 'soon',\n",
       " 'after',\n",
       " ',',\n",
       " 'only',\n",
       " 'publicly',\n",
       " 'acknowledging',\n",
       " 'her',\n",
       " 'four',\n",
       " 'decades',\n",
       " 'later',\n",
       " 'when',\n",
       " 'legally',\n",
       " 'required',\n",
       " 'to',\n",
       " 'do',\n",
       " 'so.',\n",
       " 'Modi',\n",
       " 'became',\n",
       " 'a',\n",
       " 'full-time',\n",
       " 'worker',\n",
       " 'for',\n",
       " 'the',\n",
       " 'RSS',\n",
       " 'in',\n",
       " 'Gujarat',\n",
       " 'in',\n",
       " '1971.',\n",
       " 'The',\n",
       " 'RSS',\n",
       " 'assigned',\n",
       " 'him',\n",
       " 'to',\n",
       " 'the',\n",
       " 'BJP',\n",
       " 'in',\n",
       " '1985',\n",
       " 'and',\n",
       " 'he',\n",
       " 'rose',\n",
       " 'through',\n",
       " 'the',\n",
       " 'party',\n",
       " 'hierarchy',\n",
       " ',',\n",
       " 'becoming',\n",
       " 'general',\n",
       " 'secretary',\n",
       " 'in',\n",
       " '1998.',\n",
       " '[',\n",
       " 'b',\n",
       " ']',\n",
       " 'In',\n",
       " '2001',\n",
       " ',',\n",
       " 'Modi',\n",
       " 'was',\n",
       " 'appointed',\n",
       " 'Chief',\n",
       " 'Minister',\n",
       " 'of',\n",
       " 'Gujarat',\n",
       " 'and',\n",
       " 'elected',\n",
       " 'to',\n",
       " 'the',\n",
       " 'legislative',\n",
       " 'assembly',\n",
       " 'soon',\n",
       " 'after.',\n",
       " 'His',\n",
       " 'administration',\n",
       " 'is',\n",
       " 'considered',\n",
       " 'complicit',\n",
       " 'in',\n",
       " 'the',\n",
       " '2002',\n",
       " 'Gujarat',\n",
       " 'riots',\n",
       " ',',\n",
       " '[',\n",
       " 'c',\n",
       " ']',\n",
       " 'and',\n",
       " 'has',\n",
       " 'been',\n",
       " 'criticised',\n",
       " 'for',\n",
       " 'its',\n",
       " 'management',\n",
       " 'of',\n",
       " 'the',\n",
       " 'crisis.',\n",
       " 'According',\n",
       " 'to',\n",
       " 'official',\n",
       " 'records',\n",
       " ',',\n",
       " 'a',\n",
       " 'little',\n",
       " 'over',\n",
       " '1,000',\n",
       " 'people',\n",
       " 'were',\n",
       " 'killed',\n",
       " ',',\n",
       " 'three-quarters',\n",
       " 'of',\n",
       " 'whom',\n",
       " 'were',\n",
       " 'Muslim',\n",
       " ';',\n",
       " 'independent',\n",
       " 'sources',\n",
       " 'estimated',\n",
       " '2,000',\n",
       " 'deaths',\n",
       " ',',\n",
       " 'mostly',\n",
       " 'Muslim.',\n",
       " '[',\n",
       " '11',\n",
       " ']',\n",
       " 'A',\n",
       " 'Special',\n",
       " 'Investigation',\n",
       " 'Team',\n",
       " 'appointed',\n",
       " 'by',\n",
       " 'the',\n",
       " 'Supreme',\n",
       " 'Court',\n",
       " 'of',\n",
       " 'India',\n",
       " 'in',\n",
       " '2012',\n",
       " 'found',\n",
       " 'no',\n",
       " 'evidence',\n",
       " 'to',\n",
       " 'initiate',\n",
       " 'prosecution',\n",
       " 'proceedings',\n",
       " 'against',\n",
       " 'him.',\n",
       " '[',\n",
       " 'd',\n",
       " ']',\n",
       " 'While',\n",
       " 'his',\n",
       " 'policies',\n",
       " 'as',\n",
       " 'chief',\n",
       " 'minister',\n",
       " 'were',\n",
       " 'credited',\n",
       " 'for',\n",
       " 'encouraging',\n",
       " 'economic',\n",
       " 'growth',\n",
       " ',',\n",
       " 'his',\n",
       " 'administration',\n",
       " 'was',\n",
       " 'criticised',\n",
       " 'for',\n",
       " 'failing',\n",
       " 'to',\n",
       " 'significantly',\n",
       " 'improve',\n",
       " 'health',\n",
       " ',',\n",
       " 'poverty',\n",
       " 'and',\n",
       " 'education',\n",
       " 'indices',\n",
       " 'in',\n",
       " 'the',\n",
       " 'state.',\n",
       " '[',\n",
       " 'e',\n",
       " ']']"
      ]
     },
     "execution_count": 231,
     "metadata": {},
     "output_type": "execute_result"
    }
   ],
   "source": [
    "tokenizer.tokenize(corpus)"
   ]
  },
  {
   "cell_type": "code",
   "execution_count": 232,
   "metadata": {},
   "outputs": [
    {
     "data": {
      "text/plain": [
       "['Narendra Damodardas Modi (Gujarati: [ˈnəɾendɾə dɑmodəɾˈdɑs ˈmodiː] ⓘ; born 17 September 1950)[a] is an Indian politician who has served as the 14th Prime Minister of India since 26 May 2014.',\n",
       " 'Modi was the chief minister of Gujarat from 2001 to 2014 and is the Member of Parliament (MP) for Varanasi.',\n",
       " 'He is a member of the Bharatiya Janata Party (BJP) and of the Rashtriya Swayamsevak Sangh (RSS), a right wing Hindu nationalist paramilitary volunteer organisation.',\n",
       " 'He is the longest-serving prime minister outside the Indian National Congress.',\n",
       " 'Modi was born and raised in Vadnagar in northeastern Gujarat, where he completed his secondary education.',\n",
       " 'He was introduced to the RSS at the age of eight.',\n",
       " 'At the age of 18, he was married to Jashodaben Modi, whom he abandoned soon after, only publicly acknowledging her four decades later when legally required to do so.',\n",
       " 'Modi became a full-time worker for the RSS in Gujarat in 1971.',\n",
       " 'The RSS assigned him to the BJP in 1985 and he rose through the party hierarchy, becoming general secretary in 1998.',\n",
       " '[b] In 2001, Modi was appointed Chief Minister of Gujarat and elected to the legislative assembly soon after.',\n",
       " 'His administration is considered complicit in the 2002 Gujarat riots,[c] and has been criticised for its management of the crisis.',\n",
       " 'According to official records, a little over 1,000 people were killed, three-quarters of whom were Muslim; independent sources estimated 2,000 deaths, mostly Muslim.',\n",
       " '[11] A Special Investigation Team appointed by the Supreme Court of India in 2012 found no evidence to initiate prosecution proceedings against him.',\n",
       " '[d] While his policies as chief minister were credited for encouraging economic growth, his administration was criticised for failing to significantly improve health, poverty and education indices in the state.',\n",
       " '[e]']"
      ]
     },
     "execution_count": 232,
     "metadata": {},
     "output_type": "execute_result"
    }
   ],
   "source": [
    "sentences"
   ]
  },
  {
   "cell_type": "code",
   "execution_count": 233,
   "metadata": {},
   "outputs": [],
   "source": [
    "import re\n",
    "corpus=[]\n",
    "for i in range(len(sentences)):\n",
    "    review=re.sub('[^a-zA-Z]',' ',sentences[i])\n",
    "    review=review.lower()\n",
    "    corpus.append(review)              \n",
    "    \n",
    "                  "
   ]
  },
  {
   "cell_type": "code",
   "execution_count": 234,
   "metadata": {},
   "outputs": [
    {
     "data": {
      "text/plain": [
       "['narendra damodardas modi  gujarati    n  end   d mod   d s  modi      born    september       a  is an indian politician who has served as the   th prime minister of india since    may      ',\n",
       " 'modi was the chief minister of gujarat from      to      and is the member of parliament  mp  for varanasi ',\n",
       " 'he is a member of the bharatiya janata party  bjp  and of the rashtriya swayamsevak sangh  rss   a right wing hindu nationalist paramilitary volunteer organisation ',\n",
       " 'he is the longest serving prime minister outside the indian national congress ',\n",
       " 'modi was born and raised in vadnagar in northeastern gujarat  where he completed his secondary education ',\n",
       " 'he was introduced to the rss at the age of eight ',\n",
       " 'at the age of     he was married to jashodaben modi  whom he abandoned soon after  only publicly acknowledging her four decades later when legally required to do so ',\n",
       " 'modi became a full time worker for the rss in gujarat in      ',\n",
       " 'the rss assigned him to the bjp in      and he rose through the party hierarchy  becoming general secretary in      ',\n",
       " ' b  in       modi was appointed chief minister of gujarat and elected to the legislative assembly soon after ',\n",
       " 'his administration is considered complicit in the      gujarat riots  c  and has been criticised for its management of the crisis ',\n",
       " 'according to official records  a little over       people were killed  three quarters of whom were muslim  independent sources estimated       deaths  mostly muslim ',\n",
       " '     a special investigation team appointed by the supreme court of india in      found no evidence to initiate prosecution proceedings against him ',\n",
       " ' d  while his policies as chief minister were credited for encouraging economic growth  his administration was criticised for failing to significantly improve health  poverty and education indices in the state ',\n",
       " ' e ']"
      ]
     },
     "execution_count": 234,
     "metadata": {},
     "output_type": "execute_result"
    }
   ],
   "source": [
    "corpus"
   ]
  },
  {
   "cell_type": "code",
   "execution_count": 235,
   "metadata": {},
   "outputs": [
    {
     "data": {
      "application/javascript": [
       "\n",
       "        if (window._pyforest_update_imports_cell) { window._pyforest_update_imports_cell('import nltk'); }\n",
       "    "
      ],
      "text/plain": [
       "<IPython.core.display.Javascript object>"
      ]
     },
     "metadata": {},
     "output_type": "display_data"
    },
    {
     "name": "stderr",
     "output_type": "stream",
     "text": [
      "[nltk_data] Downloading package stopwords to\n",
      "[nltk_data]     C:\\Users\\HP\\AppData\\Roaming\\nltk_data...\n",
      "[nltk_data]   Package stopwords is already up-to-date!\n"
     ]
    },
    {
     "data": {
      "application/javascript": [
       "\n",
       "        if (window._pyforest_update_imports_cell) { window._pyforest_update_imports_cell('import nltk'); }\n",
       "    "
      ],
      "text/plain": [
       "<IPython.core.display.Javascript object>"
      ]
     },
     "metadata": {},
     "output_type": "display_data"
    },
    {
     "name": "stdout",
     "output_type": "stream",
     "text": [
      "narendra\n",
      "damodarda\n",
      "modi\n",
      "gujarati\n",
      "n\n",
      "end\n",
      "mod\n",
      "modi\n",
      "born\n",
      "septemb\n",
      "indian\n",
      "politician\n",
      "serv\n",
      "th\n",
      "prime\n",
      "minist\n",
      "india\n",
      "sinc\n",
      "may\n"
     ]
    },
    {
     "data": {
      "application/javascript": [
       "\n",
       "        if (window._pyforest_update_imports_cell) { window._pyforest_update_imports_cell('import nltk'); }\n",
       "    "
      ],
      "text/plain": [
       "<IPython.core.display.Javascript object>"
      ]
     },
     "metadata": {},
     "output_type": "display_data"
    },
    {
     "name": "stdout",
     "output_type": "stream",
     "text": [
      "modi\n",
      "chief\n",
      "minist\n",
      "gujarat\n",
      "member\n",
      "parliament\n",
      "mp\n",
      "varanasi\n"
     ]
    },
    {
     "data": {
      "application/javascript": [
       "\n",
       "        if (window._pyforest_update_imports_cell) { window._pyforest_update_imports_cell('import nltk'); }\n",
       "    "
      ],
      "text/plain": [
       "<IPython.core.display.Javascript object>"
      ]
     },
     "metadata": {},
     "output_type": "display_data"
    },
    {
     "name": "stdout",
     "output_type": "stream",
     "text": [
      "member\n",
      "bharatiya\n",
      "janata\n",
      "parti\n",
      "bjp\n",
      "rashtriya\n",
      "swayamsevak\n",
      "sangh\n",
      "rss\n",
      "right\n",
      "wing\n",
      "hindu\n",
      "nationalist\n",
      "paramilitari\n",
      "volunt\n",
      "organis\n"
     ]
    },
    {
     "data": {
      "application/javascript": [
       "\n",
       "        if (window._pyforest_update_imports_cell) { window._pyforest_update_imports_cell('import nltk'); }\n",
       "    "
      ],
      "text/plain": [
       "<IPython.core.display.Javascript object>"
      ]
     },
     "metadata": {},
     "output_type": "display_data"
    },
    {
     "name": "stdout",
     "output_type": "stream",
     "text": [
      "longest\n",
      "serv\n",
      "prime\n",
      "minist\n",
      "outsid\n",
      "indian\n",
      "nation\n",
      "congress\n"
     ]
    },
    {
     "data": {
      "application/javascript": [
       "\n",
       "        if (window._pyforest_update_imports_cell) { window._pyforest_update_imports_cell('import nltk'); }\n",
       "    "
      ],
      "text/plain": [
       "<IPython.core.display.Javascript object>"
      ]
     },
     "metadata": {},
     "output_type": "display_data"
    },
    {
     "name": "stdout",
     "output_type": "stream",
     "text": [
      "modi\n",
      "born\n",
      "rais\n",
      "vadnagar\n",
      "northeastern\n",
      "gujarat\n",
      "complet\n",
      "secondari\n",
      "educ\n"
     ]
    },
    {
     "data": {
      "application/javascript": [
       "\n",
       "        if (window._pyforest_update_imports_cell) { window._pyforest_update_imports_cell('import nltk'); }\n",
       "    "
      ],
      "text/plain": [
       "<IPython.core.display.Javascript object>"
      ]
     },
     "metadata": {},
     "output_type": "display_data"
    },
    {
     "name": "stdout",
     "output_type": "stream",
     "text": [
      "introduc\n",
      "rss\n",
      "age\n",
      "eight\n"
     ]
    },
    {
     "data": {
      "application/javascript": [
       "\n",
       "        if (window._pyforest_update_imports_cell) { window._pyforest_update_imports_cell('import nltk'); }\n",
       "    "
      ],
      "text/plain": [
       "<IPython.core.display.Javascript object>"
      ]
     },
     "metadata": {},
     "output_type": "display_data"
    },
    {
     "name": "stdout",
     "output_type": "stream",
     "text": [
      "age\n",
      "marri\n",
      "jashodaben\n",
      "modi\n",
      "abandon\n",
      "soon\n",
      "publicli\n",
      "acknowledg\n",
      "four\n",
      "decad\n",
      "later\n",
      "legal\n",
      "requir\n"
     ]
    },
    {
     "data": {
      "application/javascript": [
       "\n",
       "        if (window._pyforest_update_imports_cell) { window._pyforest_update_imports_cell('import nltk'); }\n",
       "    "
      ],
      "text/plain": [
       "<IPython.core.display.Javascript object>"
      ]
     },
     "metadata": {},
     "output_type": "display_data"
    },
    {
     "name": "stdout",
     "output_type": "stream",
     "text": [
      "modi\n",
      "becam\n",
      "full\n",
      "time\n",
      "worker\n",
      "rss\n",
      "gujarat\n"
     ]
    },
    {
     "data": {
      "application/javascript": [
       "\n",
       "        if (window._pyforest_update_imports_cell) { window._pyforest_update_imports_cell('import nltk'); }\n",
       "    "
      ],
      "text/plain": [
       "<IPython.core.display.Javascript object>"
      ]
     },
     "metadata": {},
     "output_type": "display_data"
    },
    {
     "name": "stdout",
     "output_type": "stream",
     "text": [
      "rss\n",
      "assign\n",
      "bjp\n",
      "rose\n",
      "parti\n",
      "hierarchi\n",
      "becom\n",
      "gener\n",
      "secretari\n"
     ]
    },
    {
     "data": {
      "application/javascript": [
       "\n",
       "        if (window._pyforest_update_imports_cell) { window._pyforest_update_imports_cell('import nltk'); }\n",
       "    "
      ],
      "text/plain": [
       "<IPython.core.display.Javascript object>"
      ]
     },
     "metadata": {},
     "output_type": "display_data"
    },
    {
     "name": "stdout",
     "output_type": "stream",
     "text": [
      "b\n",
      "modi\n",
      "appoint\n",
      "chief\n",
      "minist\n",
      "gujarat\n",
      "elect\n",
      "legisl\n",
      "assembl\n",
      "soon\n"
     ]
    },
    {
     "data": {
      "application/javascript": [
       "\n",
       "        if (window._pyforest_update_imports_cell) { window._pyforest_update_imports_cell('import nltk'); }\n",
       "    "
      ],
      "text/plain": [
       "<IPython.core.display.Javascript object>"
      ]
     },
     "metadata": {},
     "output_type": "display_data"
    },
    {
     "name": "stdout",
     "output_type": "stream",
     "text": [
      "administr\n",
      "consid\n",
      "complicit\n",
      "gujarat\n",
      "riot\n",
      "c\n",
      "criticis\n",
      "manag\n",
      "crisi\n"
     ]
    },
    {
     "data": {
      "application/javascript": [
       "\n",
       "        if (window._pyforest_update_imports_cell) { window._pyforest_update_imports_cell('import nltk'); }\n",
       "    "
      ],
      "text/plain": [
       "<IPython.core.display.Javascript object>"
      ]
     },
     "metadata": {},
     "output_type": "display_data"
    },
    {
     "name": "stdout",
     "output_type": "stream",
     "text": [
      "accord\n",
      "offici\n",
      "record\n",
      "littl\n",
      "peopl\n",
      "kill\n",
      "three\n",
      "quarter\n",
      "muslim\n",
      "independ\n",
      "sourc\n",
      "estim\n",
      "death\n",
      "mostli\n",
      "muslim\n"
     ]
    },
    {
     "data": {
      "application/javascript": [
       "\n",
       "        if (window._pyforest_update_imports_cell) { window._pyforest_update_imports_cell('import nltk'); }\n",
       "    "
      ],
      "text/plain": [
       "<IPython.core.display.Javascript object>"
      ]
     },
     "metadata": {},
     "output_type": "display_data"
    },
    {
     "name": "stdout",
     "output_type": "stream",
     "text": [
      "special\n",
      "investig\n",
      "team\n",
      "appoint\n",
      "suprem\n",
      "court\n",
      "india\n",
      "found\n",
      "evid\n",
      "initi\n",
      "prosecut\n",
      "proceed\n"
     ]
    },
    {
     "data": {
      "application/javascript": [
       "\n",
       "        if (window._pyforest_update_imports_cell) { window._pyforest_update_imports_cell('import nltk'); }\n",
       "    "
      ],
      "text/plain": [
       "<IPython.core.display.Javascript object>"
      ]
     },
     "metadata": {},
     "output_type": "display_data"
    },
    {
     "name": "stdout",
     "output_type": "stream",
     "text": [
      "polici\n",
      "chief\n",
      "minist\n",
      "credit\n",
      "encourag\n",
      "econom\n",
      "growth\n",
      "administr\n",
      "criticis\n",
      "fail\n",
      "significantli\n",
      "improv\n",
      "health\n",
      "poverti\n",
      "educ\n",
      "indic\n",
      "state\n"
     ]
    },
    {
     "data": {
      "application/javascript": [
       "\n",
       "        if (window._pyforest_update_imports_cell) { window._pyforest_update_imports_cell('import nltk'); }\n",
       "    "
      ],
      "text/plain": [
       "<IPython.core.display.Javascript object>"
      ]
     },
     "metadata": {},
     "output_type": "display_data"
    },
    {
     "name": "stdout",
     "output_type": "stream",
     "text": [
      "e\n"
     ]
    }
   ],
   "source": [
    "# stemming\n",
    "from nltk.corpus import stopwords\n",
    "from nltk.stem import PorterStemmer\n",
    "stemmer=PorterStemmer()\n",
    "nltk.download('stopwords')\n",
    "for i in corpus:\n",
    "    words=nltk.word_tokenize(i)\n",
    "    for word in words:\n",
    "        if word not in set(stopwords.words('english')):\n",
    "            print(stemmer.stem(word))\n",
    "        "
   ]
  },
  {
   "cell_type": "code",
   "execution_count": 236,
   "metadata": {},
   "outputs": [
    {
     "data": {
      "application/javascript": [
       "\n",
       "        if (window._pyforest_update_imports_cell) { window._pyforest_update_imports_cell('import nltk'); }\n",
       "    "
      ],
      "text/plain": [
       "<IPython.core.display.Javascript object>"
      ]
     },
     "metadata": {},
     "output_type": "display_data"
    },
    {
     "name": "stdout",
     "output_type": "stream",
     "text": [
      "narendra\n",
      "damodardas\n",
      "modi\n",
      "gujarati\n",
      "n\n",
      "end\n",
      "mod\n",
      "modi\n",
      "born\n",
      "september\n",
      "indian\n",
      "politician\n",
      "served\n",
      "th\n",
      "prime\n",
      "minister\n",
      "india\n",
      "since\n",
      "may\n"
     ]
    },
    {
     "data": {
      "application/javascript": [
       "\n",
       "        if (window._pyforest_update_imports_cell) { window._pyforest_update_imports_cell('import nltk'); }\n",
       "    "
      ],
      "text/plain": [
       "<IPython.core.display.Javascript object>"
      ]
     },
     "metadata": {},
     "output_type": "display_data"
    },
    {
     "name": "stdout",
     "output_type": "stream",
     "text": [
      "modi\n",
      "chief\n",
      "minister\n",
      "gujarat\n",
      "member\n",
      "parliament\n",
      "mp\n",
      "varanasi\n"
     ]
    },
    {
     "data": {
      "application/javascript": [
       "\n",
       "        if (window._pyforest_update_imports_cell) { window._pyforest_update_imports_cell('import nltk'); }\n",
       "    "
      ],
      "text/plain": [
       "<IPython.core.display.Javascript object>"
      ]
     },
     "metadata": {},
     "output_type": "display_data"
    },
    {
     "name": "stdout",
     "output_type": "stream",
     "text": [
      "member\n",
      "bharatiya\n",
      "janata\n",
      "party\n",
      "bjp\n",
      "rashtriya\n",
      "swayamsevak\n",
      "sangh\n",
      "r\n",
      "right\n",
      "wing\n",
      "hindu\n",
      "nationalist\n",
      "paramilitary\n",
      "volunteer\n",
      "organisation\n"
     ]
    },
    {
     "data": {
      "application/javascript": [
       "\n",
       "        if (window._pyforest_update_imports_cell) { window._pyforest_update_imports_cell('import nltk'); }\n",
       "    "
      ],
      "text/plain": [
       "<IPython.core.display.Javascript object>"
      ]
     },
     "metadata": {},
     "output_type": "display_data"
    },
    {
     "name": "stdout",
     "output_type": "stream",
     "text": [
      "longest\n",
      "serving\n",
      "prime\n",
      "minister\n",
      "outside\n",
      "indian\n",
      "national\n",
      "congress\n"
     ]
    },
    {
     "data": {
      "application/javascript": [
       "\n",
       "        if (window._pyforest_update_imports_cell) { window._pyforest_update_imports_cell('import nltk'); }\n",
       "    "
      ],
      "text/plain": [
       "<IPython.core.display.Javascript object>"
      ]
     },
     "metadata": {},
     "output_type": "display_data"
    },
    {
     "name": "stdout",
     "output_type": "stream",
     "text": [
      "modi\n",
      "born\n",
      "raised\n",
      "vadnagar\n",
      "northeastern\n",
      "gujarat\n",
      "completed\n",
      "secondary\n",
      "education\n"
     ]
    },
    {
     "data": {
      "application/javascript": [
       "\n",
       "        if (window._pyforest_update_imports_cell) { window._pyforest_update_imports_cell('import nltk'); }\n",
       "    "
      ],
      "text/plain": [
       "<IPython.core.display.Javascript object>"
      ]
     },
     "metadata": {},
     "output_type": "display_data"
    },
    {
     "name": "stdout",
     "output_type": "stream",
     "text": [
      "introduced\n",
      "r\n",
      "age\n",
      "eight\n"
     ]
    },
    {
     "data": {
      "application/javascript": [
       "\n",
       "        if (window._pyforest_update_imports_cell) { window._pyforest_update_imports_cell('import nltk'); }\n",
       "    "
      ],
      "text/plain": [
       "<IPython.core.display.Javascript object>"
      ]
     },
     "metadata": {},
     "output_type": "display_data"
    },
    {
     "name": "stdout",
     "output_type": "stream",
     "text": [
      "age\n",
      "married\n",
      "jashodaben\n",
      "modi\n",
      "abandoned\n",
      "soon\n",
      "publicly\n",
      "acknowledging\n",
      "four\n",
      "decade\n",
      "later\n",
      "legally\n",
      "required\n"
     ]
    },
    {
     "data": {
      "application/javascript": [
       "\n",
       "        if (window._pyforest_update_imports_cell) { window._pyforest_update_imports_cell('import nltk'); }\n",
       "    "
      ],
      "text/plain": [
       "<IPython.core.display.Javascript object>"
      ]
     },
     "metadata": {},
     "output_type": "display_data"
    },
    {
     "name": "stdout",
     "output_type": "stream",
     "text": [
      "modi\n",
      "became\n",
      "full\n",
      "time\n",
      "worker\n",
      "r\n",
      "gujarat\n"
     ]
    },
    {
     "data": {
      "application/javascript": [
       "\n",
       "        if (window._pyforest_update_imports_cell) { window._pyforest_update_imports_cell('import nltk'); }\n",
       "    "
      ],
      "text/plain": [
       "<IPython.core.display.Javascript object>"
      ]
     },
     "metadata": {},
     "output_type": "display_data"
    },
    {
     "name": "stdout",
     "output_type": "stream",
     "text": [
      "r\n",
      "assigned\n",
      "bjp\n",
      "rose\n",
      "party\n",
      "hierarchy\n",
      "becoming\n",
      "general\n",
      "secretary\n"
     ]
    },
    {
     "data": {
      "application/javascript": [
       "\n",
       "        if (window._pyforest_update_imports_cell) { window._pyforest_update_imports_cell('import nltk'); }\n",
       "    "
      ],
      "text/plain": [
       "<IPython.core.display.Javascript object>"
      ]
     },
     "metadata": {},
     "output_type": "display_data"
    },
    {
     "name": "stdout",
     "output_type": "stream",
     "text": [
      "b\n",
      "modi\n",
      "appointed\n",
      "chief\n",
      "minister\n",
      "gujarat\n",
      "elected\n",
      "legislative\n",
      "assembly\n",
      "soon\n"
     ]
    },
    {
     "data": {
      "application/javascript": [
       "\n",
       "        if (window._pyforest_update_imports_cell) { window._pyforest_update_imports_cell('import nltk'); }\n",
       "    "
      ],
      "text/plain": [
       "<IPython.core.display.Javascript object>"
      ]
     },
     "metadata": {},
     "output_type": "display_data"
    },
    {
     "name": "stdout",
     "output_type": "stream",
     "text": [
      "administration\n",
      "considered\n",
      "complicit\n",
      "gujarat\n",
      "riot\n",
      "c\n",
      "criticised\n",
      "management\n",
      "crisis\n"
     ]
    },
    {
     "data": {
      "application/javascript": [
       "\n",
       "        if (window._pyforest_update_imports_cell) { window._pyforest_update_imports_cell('import nltk'); }\n",
       "    "
      ],
      "text/plain": [
       "<IPython.core.display.Javascript object>"
      ]
     },
     "metadata": {},
     "output_type": "display_data"
    },
    {
     "name": "stdout",
     "output_type": "stream",
     "text": [
      "according\n",
      "official\n",
      "record\n",
      "little\n",
      "people\n",
      "killed\n",
      "three\n",
      "quarter\n",
      "muslim\n",
      "independent\n",
      "source\n",
      "estimated\n",
      "death\n",
      "mostly\n",
      "muslim\n"
     ]
    },
    {
     "data": {
      "application/javascript": [
       "\n",
       "        if (window._pyforest_update_imports_cell) { window._pyforest_update_imports_cell('import nltk'); }\n",
       "    "
      ],
      "text/plain": [
       "<IPython.core.display.Javascript object>"
      ]
     },
     "metadata": {},
     "output_type": "display_data"
    },
    {
     "name": "stdout",
     "output_type": "stream",
     "text": [
      "special\n",
      "investigation\n",
      "team\n",
      "appointed\n",
      "supreme\n",
      "court\n",
      "india\n",
      "found\n",
      "evidence\n",
      "initiate\n",
      "prosecution\n",
      "proceeding\n"
     ]
    },
    {
     "data": {
      "application/javascript": [
       "\n",
       "        if (window._pyforest_update_imports_cell) { window._pyforest_update_imports_cell('import nltk'); }\n",
       "    "
      ],
      "text/plain": [
       "<IPython.core.display.Javascript object>"
      ]
     },
     "metadata": {},
     "output_type": "display_data"
    },
    {
     "name": "stdout",
     "output_type": "stream",
     "text": [
      "policy\n",
      "chief\n",
      "minister\n",
      "credited\n",
      "encouraging\n",
      "economic\n",
      "growth\n",
      "administration\n",
      "criticised\n",
      "failing\n",
      "significantly\n",
      "improve\n",
      "health\n",
      "poverty\n",
      "education\n",
      "index\n",
      "state\n"
     ]
    },
    {
     "data": {
      "application/javascript": [
       "\n",
       "        if (window._pyforest_update_imports_cell) { window._pyforest_update_imports_cell('import nltk'); }\n",
       "    "
      ],
      "text/plain": [
       "<IPython.core.display.Javascript object>"
      ]
     },
     "metadata": {},
     "output_type": "display_data"
    },
    {
     "name": "stdout",
     "output_type": "stream",
     "text": [
      "e\n"
     ]
    }
   ],
   "source": [
    "#lemmtization\n",
    "from nltk.stem import WordNetLemmatizer\n",
    "lemmatizer=WordNetLemmatizer()\n",
    "for i in corpus:\n",
    "    words=nltk.word_tokenize(i)\n",
    "    for word in words:\n",
    "        if word not in set(stopwords.words('english')):\n",
    "            print(lemmatizer.lemmatize(word))\n",
    "        "
   ]
  },
  {
   "cell_type": "code",
   "execution_count": 237,
   "metadata": {},
   "outputs": [],
   "source": [
    "#Bag of words\n",
    "from sklearn.feature_extraction.text import CountVectorizer\n",
    "cv=CountVectorizer()"
   ]
  },
  {
   "cell_type": "code",
   "execution_count": 238,
   "metadata": {},
   "outputs": [],
   "source": [
    "X=cv.fit_transform(corpus)"
   ]
  },
  {
   "cell_type": "code",
   "execution_count": 239,
   "metadata": {},
   "outputs": [
    {
     "data": {
      "text/plain": [
       "{'narendra': 89,\n",
       " 'damodardas': 30,\n",
       " 'modi': 85,\n",
       " 'gujarati': 51,\n",
       " 'end': 39,\n",
       " 'mod': 84,\n",
       " 'born': 19,\n",
       " 'september': 123,\n",
       " 'is': 69,\n",
       " 'an': 7,\n",
       " 'indian': 64,\n",
       " 'politician': 105,\n",
       " 'who': 150,\n",
       " 'has': 52,\n",
       " 'served': 124,\n",
       " 'as': 10,\n",
       " 'the': 137,\n",
       " 'th': 136,\n",
       " 'prime': 107,\n",
       " 'minister': 83,\n",
       " 'of': 94,\n",
       " 'india': 63,\n",
       " 'since': 127,\n",
       " 'may': 81,\n",
       " 'was': 145,\n",
       " 'chief': 21,\n",
       " 'gujarat': 50,\n",
       " 'from': 46,\n",
       " 'to': 141,\n",
       " 'and': 8,\n",
       " 'member': 82,\n",
       " 'parliament': 101,\n",
       " 'mp': 87,\n",
       " 'for': 43,\n",
       " 'varanasi': 143,\n",
       " 'he': 53,\n",
       " 'bharatiya': 17,\n",
       " 'janata': 71,\n",
       " 'party': 102,\n",
       " 'bjp': 18,\n",
       " 'rashtriya': 113,\n",
       " 'swayamsevak': 134,\n",
       " 'sangh': 120,\n",
       " 'rss': 119,\n",
       " 'right': 116,\n",
       " 'wing': 152,\n",
       " 'hindu': 58,\n",
       " 'nationalist': 91,\n",
       " 'paramilitary': 100,\n",
       " 'volunteer': 144,\n",
       " 'organisation': 97,\n",
       " 'longest': 78,\n",
       " 'serving': 125,\n",
       " 'outside': 98,\n",
       " 'national': 90,\n",
       " 'congress': 24,\n",
       " 'raised': 112,\n",
       " 'in': 61,\n",
       " 'vadnagar': 142,\n",
       " 'northeastern': 93,\n",
       " 'where': 148,\n",
       " 'completed': 22,\n",
       " 'his': 59,\n",
       " 'secondary': 121,\n",
       " 'education': 35,\n",
       " 'introduced': 67,\n",
       " 'at': 13,\n",
       " 'age': 6,\n",
       " 'eight': 36,\n",
       " 'married': 80,\n",
       " 'jashodaben': 72,\n",
       " 'whom': 151,\n",
       " 'abandoned': 0,\n",
       " 'soon': 129,\n",
       " 'after': 4,\n",
       " 'only': 96,\n",
       " 'publicly': 110,\n",
       " 'acknowledging': 2,\n",
       " 'her': 55,\n",
       " 'four': 45,\n",
       " 'decades': 32,\n",
       " 'later': 74,\n",
       " 'when': 147,\n",
       " 'legally': 75,\n",
       " 'required': 115,\n",
       " 'do': 33,\n",
       " 'so': 128,\n",
       " 'became': 14,\n",
       " 'full': 47,\n",
       " 'time': 140,\n",
       " 'worker': 153,\n",
       " 'assigned': 12,\n",
       " 'him': 57,\n",
       " 'rose': 118,\n",
       " 'through': 139,\n",
       " 'hierarchy': 56,\n",
       " 'becoming': 15,\n",
       " 'general': 48,\n",
       " 'secretary': 122,\n",
       " 'appointed': 9,\n",
       " 'elected': 37,\n",
       " 'legislative': 76,\n",
       " 'assembly': 11,\n",
       " 'administration': 3,\n",
       " 'considered': 25,\n",
       " 'complicit': 23,\n",
       " 'riots': 117,\n",
       " 'been': 16,\n",
       " 'criticised': 29,\n",
       " 'its': 70,\n",
       " 'management': 79,\n",
       " 'crisis': 28,\n",
       " 'according': 1,\n",
       " 'official': 95,\n",
       " 'records': 114,\n",
       " 'little': 77,\n",
       " 'over': 99,\n",
       " 'people': 103,\n",
       " 'were': 146,\n",
       " 'killed': 73,\n",
       " 'three': 138,\n",
       " 'quarters': 111,\n",
       " 'muslim': 88,\n",
       " 'independent': 62,\n",
       " 'sources': 130,\n",
       " 'estimated': 40,\n",
       " 'deaths': 31,\n",
       " 'mostly': 86,\n",
       " 'special': 131,\n",
       " 'investigation': 68,\n",
       " 'team': 135,\n",
       " 'by': 20,\n",
       " 'supreme': 133,\n",
       " 'court': 26,\n",
       " 'found': 44,\n",
       " 'no': 92,\n",
       " 'evidence': 41,\n",
       " 'initiate': 66,\n",
       " 'prosecution': 109,\n",
       " 'proceedings': 108,\n",
       " 'against': 5,\n",
       " 'while': 149,\n",
       " 'policies': 104,\n",
       " 'credited': 27,\n",
       " 'encouraging': 38,\n",
       " 'economic': 34,\n",
       " 'growth': 49,\n",
       " 'failing': 42,\n",
       " 'significantly': 126,\n",
       " 'improve': 60,\n",
       " 'health': 54,\n",
       " 'poverty': 106,\n",
       " 'indices': 65,\n",
       " 'state': 132}"
      ]
     },
     "execution_count": 239,
     "metadata": {},
     "output_type": "execute_result"
    }
   ],
   "source": [
    "cv.vocabulary_ #Index number"
   ]
  },
  {
   "cell_type": "code",
   "execution_count": 207,
   "metadata": {},
   "outputs": [
    {
     "data": {
      "text/plain": [
       "'narendra damodardas modi  gujarati    n  end   d mod   d s  modi      born    september       a  is an indian politician who has served as the   th prime minister of india since    may      '"
      ]
     },
     "execution_count": 207,
     "metadata": {},
     "output_type": "execute_result"
    }
   ],
   "source": [
    "corpus[0]"
   ]
  },
  {
   "cell_type": "code",
   "execution_count": 240,
   "metadata": {},
   "outputs": [
    {
     "data": {
      "text/plain": [
       "array([[0, 0, 0, 0, 0, 0, 0, 1, 0, 0, 1, 0, 0, 0, 0, 0, 0, 0, 0, 1, 0, 0,\n",
       "        0, 0, 0, 0, 0, 0, 0, 0, 1, 0, 0, 0, 0, 0, 0, 0, 0, 1, 0, 0, 0, 0,\n",
       "        0, 0, 0, 0, 0, 0, 0, 1, 1, 0, 0, 0, 0, 0, 0, 0, 0, 0, 0, 1, 1, 0,\n",
       "        0, 0, 0, 1, 0, 0, 0, 0, 0, 0, 0, 0, 0, 0, 0, 1, 0, 1, 1, 2, 0, 0,\n",
       "        0, 1, 0, 0, 0, 0, 1, 0, 0, 0, 0, 0, 0, 0, 0, 0, 0, 1, 0, 1, 0, 0,\n",
       "        0, 0, 0, 0, 0, 0, 0, 0, 0, 0, 0, 0, 0, 1, 1, 0, 0, 1, 0, 0, 0, 0,\n",
       "        0, 0, 0, 0, 1, 1, 0, 0, 0, 0, 0, 0, 0, 0, 0, 0, 0, 0, 1, 0, 0, 0]],\n",
       "      dtype=int64)"
      ]
     },
     "execution_count": 240,
     "metadata": {},
     "output_type": "execute_result"
    }
   ],
   "source": [
    "X[0].toarray()"
   ]
  },
  {
   "cell_type": "code",
   "execution_count": 241,
   "metadata": {},
   "outputs": [],
   "source": [
    "from sklearn.feature_extraction.text import CountVectorizer\n",
    "cv=CountVectorizer(binary=True)"
   ]
  },
  {
   "cell_type": "code",
   "execution_count": 242,
   "metadata": {},
   "outputs": [],
   "source": [
    "X=cv.fit_transform(corpus)"
   ]
  },
  {
   "cell_type": "code",
   "execution_count": 243,
   "metadata": {},
   "outputs": [
    {
     "data": {
      "text/plain": [
       "array([[0, 0, 0, 0, 0, 0, 0, 1, 0, 0, 1, 0, 0, 0, 0, 0, 0, 0, 0, 1, 0, 0,\n",
       "        0, 0, 0, 0, 0, 0, 0, 0, 1, 0, 0, 0, 0, 0, 0, 0, 0, 1, 0, 0, 0, 0,\n",
       "        0, 0, 0, 0, 0, 0, 0, 1, 1, 0, 0, 0, 0, 0, 0, 0, 0, 0, 0, 1, 1, 0,\n",
       "        0, 0, 0, 1, 0, 0, 0, 0, 0, 0, 0, 0, 0, 0, 0, 1, 0, 1, 1, 1, 0, 0,\n",
       "        0, 1, 0, 0, 0, 0, 1, 0, 0, 0, 0, 0, 0, 0, 0, 0, 0, 1, 0, 1, 0, 0,\n",
       "        0, 0, 0, 0, 0, 0, 0, 0, 0, 0, 0, 0, 0, 1, 1, 0, 0, 1, 0, 0, 0, 0,\n",
       "        0, 0, 0, 0, 1, 1, 0, 0, 0, 0, 0, 0, 0, 0, 0, 0, 0, 0, 1, 0, 0, 0]],\n",
       "      dtype=int64)"
      ]
     },
     "execution_count": 243,
     "metadata": {},
     "output_type": "execute_result"
    }
   ],
   "source": [
    "X[0].toarray()"
   ]
  },
  {
   "cell_type": "code",
   "execution_count": 252,
   "metadata": {},
   "outputs": [],
   "source": [
    "import re\n",
    "Corpus=[]\n",
    "for i in range(len(senetences)):\n",
    "    review=re.sub('[^a-zA-Z]',' ',senetences[i])\n",
    "    review=review.lower()\n",
    "    review=review.split()\n",
    "    review=[lemmatizer.lemmatize(word) for word in review if word not in set(stopwords.words('english'))]\n",
    "    review=' '.join(review)\n",
    "    Corpus.append(review)"
   ]
  },
  {
   "cell_type": "code",
   "execution_count": 253,
   "metadata": {},
   "outputs": [
    {
     "data": {
      "text/plain": [
       "['narendra damodardas modi gujarati n end mod modi born september indian politician served th prime minister india since may',\n",
       " 'modi chief minister gujarat member parliament mp varanasi',\n",
       " 'member bharatiya janata party bjp rashtriya swayamsevak sangh r right wing hindu nationalist paramilitary volunteer organisation',\n",
       " 'longest serving prime minister outside indian national congress',\n",
       " 'modi born raised vadnagar northeastern gujarat completed secondary education',\n",
       " 'introduced r age eight',\n",
       " 'age married jashodaben modi abandoned soon publicly acknowledging four decade later legally required',\n",
       " 'modi became full time worker r gujarat',\n",
       " 'r assigned bjp rose party hierarchy becoming general secretary',\n",
       " 'b modi appointed chief minister gujarat elected legislative assembly soon',\n",
       " 'administration considered complicit gujarat riot c criticised management crisis',\n",
       " 'according official record little people killed three quarter muslim independent source estimated death mostly muslim',\n",
       " 'special investigation team appointed supreme court india found evidence initiate prosecution proceeding',\n",
       " 'policy chief minister credited encouraging economic growth administration criticised failing significantly improve health poverty education index state',\n",
       " 'e']"
      ]
     },
     "execution_count": 253,
     "metadata": {},
     "output_type": "execute_result"
    }
   ],
   "source": [
    "Corpus"
   ]
  },
  {
   "cell_type": "markdown",
   "metadata": {},
   "source": [
    "# TF_IDF"
   ]
  },
  {
   "cell_type": "code",
   "execution_count": 280,
   "metadata": {},
   "outputs": [],
   "source": [
    "#Bag of words\n",
    "from sklearn.feature_extraction.text import CountVectorizer\n",
    "cv=CountVectorizer(binary=True,ngram_range=(2,3))"
   ]
  },
  {
   "cell_type": "code",
   "execution_count": 281,
   "metadata": {},
   "outputs": [],
   "source": [
    "X=cv.fit_transform(Corpus)"
   ]
  },
  {
   "cell_type": "code",
   "execution_count": 282,
   "metadata": {},
   "outputs": [
    {
     "data": {
      "text/plain": [
       "{'narendra damodardas': 167,\n",
       " 'damodardas modi': 51,\n",
       " 'modi gujarati': 161,\n",
       " 'gujarati end': 90,\n",
       " 'end mod': 65,\n",
       " 'mod modi': 148,\n",
       " 'modi born': 156,\n",
       " 'born september': 32,\n",
       " 'september indian': 217,\n",
       " 'indian politician': 109,\n",
       " 'politician served': 190,\n",
       " 'served th': 219,\n",
       " 'th prime': 238,\n",
       " 'prime minister': 194,\n",
       " 'minister india': 144,\n",
       " 'india since': 105,\n",
       " 'since may': 225,\n",
       " 'narendra damodardas modi': 168,\n",
       " 'damodardas modi gujarati': 52,\n",
       " 'modi gujarati end': 162,\n",
       " 'gujarati end mod': 91,\n",
       " 'end mod modi': 66,\n",
       " 'mod modi born': 149,\n",
       " 'modi born september': 158,\n",
       " 'born september indian': 33,\n",
       " 'september indian politician': 218,\n",
       " 'indian politician served': 110,\n",
       " 'politician served th': 191,\n",
       " 'served th prime': 220,\n",
       " 'th prime minister': 239,\n",
       " 'prime minister india': 195,\n",
       " 'minister india since': 145,\n",
       " 'india since may': 106,\n",
       " 'modi chief': 159,\n",
       " 'chief minister': 34,\n",
       " 'minister gujarat': 141,\n",
       " 'gujarat member': 86,\n",
       " 'member parliament': 137,\n",
       " 'parliament mp': 180,\n",
       " 'mp varanasi': 164,\n",
       " 'modi chief minister': 160,\n",
       " 'chief minister gujarat': 36,\n",
       " 'minister gujarat member': 143,\n",
       " 'gujarat member parliament': 87,\n",
       " 'member parliament mp': 138,\n",
       " 'parliament mp varanasi': 181,\n",
       " 'member bharatiya': 135,\n",
       " 'bharatiya janata': 24,\n",
       " 'janata party': 117,\n",
       " 'party bjp': 182,\n",
       " 'bjp rashtriya': 26,\n",
       " 'rashtriya swayamsevak': 204,\n",
       " 'swayamsevak sangh': 234,\n",
       " 'sangh right': 214,\n",
       " 'right wing': 208,\n",
       " 'wing hindu': 247,\n",
       " 'hindu nationalist': 96,\n",
       " 'nationalist paramilitary': 170,\n",
       " 'paramilitary volunteer': 178,\n",
       " 'volunteer organisation': 246,\n",
       " 'member bharatiya janata': 136,\n",
       " 'bharatiya janata party': 25,\n",
       " 'janata party bjp': 118,\n",
       " 'party bjp rashtriya': 183,\n",
       " 'bjp rashtriya swayamsevak': 27,\n",
       " 'rashtriya swayamsevak sangh': 205,\n",
       " 'swayamsevak sangh right': 235,\n",
       " 'sangh right wing': 215,\n",
       " 'right wing hindu': 209,\n",
       " 'wing hindu nationalist': 248,\n",
       " 'hindu nationalist paramilitary': 97,\n",
       " 'nationalist paramilitary volunteer': 171,\n",
       " 'paramilitary volunteer organisation': 179,\n",
       " 'longest serving': 130,\n",
       " 'serving prime': 221,\n",
       " 'minister outside': 146,\n",
       " 'outside indian': 176,\n",
       " 'indian national': 107,\n",
       " 'national congress': 169,\n",
       " 'longest serving prime': 131,\n",
       " 'serving prime minister': 222,\n",
       " 'prime minister outside': 196,\n",
       " 'minister outside indian': 147,\n",
       " 'outside indian national': 177,\n",
       " 'indian national congress': 108,\n",
       " 'born raised': 30,\n",
       " 'raised vadnagar': 202,\n",
       " 'vadnagar northeastern': 244,\n",
       " 'northeastern gujarat': 172,\n",
       " 'gujarat completed': 82,\n",
       " 'completed secondary': 37,\n",
       " 'secondary education': 216,\n",
       " 'modi born raised': 157,\n",
       " 'born raised vadnagar': 31,\n",
       " 'raised vadnagar northeastern': 203,\n",
       " 'vadnagar northeastern gujarat': 245,\n",
       " 'northeastern gujarat completed': 173,\n",
       " 'gujarat completed secondary': 83,\n",
       " 'completed secondary education': 38,\n",
       " 'introduced age': 113,\n",
       " 'age eight': 10,\n",
       " 'introduced age eight': 114,\n",
       " 'age married': 11,\n",
       " 'married jashodaben': 133,\n",
       " 'jashodaben modi': 119,\n",
       " 'modi abandoned': 150,\n",
       " 'abandoned soon': 0,\n",
       " 'soon publicly': 226,\n",
       " 'publicly acknowledging': 198,\n",
       " 'acknowledging four': 4,\n",
       " 'four decade': 75,\n",
       " 'decade later': 55,\n",
       " 'later legally': 123,\n",
       " 'legally required': 125,\n",
       " 'age married jashodaben': 12,\n",
       " 'married jashodaben modi': 134,\n",
       " 'jashodaben modi abandoned': 120,\n",
       " 'modi abandoned soon': 151,\n",
       " 'abandoned soon publicly': 1,\n",
       " 'soon publicly acknowledging': 227,\n",
       " 'publicly acknowledging four': 199,\n",
       " 'acknowledging four decade': 5,\n",
       " 'four decade later': 76,\n",
       " 'decade later legally': 56,\n",
       " 'later legally required': 124,\n",
       " 'modi became': 154,\n",
       " 'became full': 20,\n",
       " 'full time': 77,\n",
       " 'time worker': 242,\n",
       " 'worker gujarat': 249,\n",
       " 'modi became full': 155,\n",
       " 'became full time': 21,\n",
       " 'full time worker': 78,\n",
       " 'time worker gujarat': 243,\n",
       " 'assigned bjp': 18,\n",
       " 'bjp rose': 28,\n",
       " 'rose party': 212,\n",
       " 'party hierarchy': 184,\n",
       " 'hierarchy becoming': 94,\n",
       " 'becoming general': 22,\n",
       " 'general secretary': 79,\n",
       " 'assigned bjp rose': 19,\n",
       " 'bjp rose party': 29,\n",
       " 'rose party hierarchy': 213,\n",
       " 'party hierarchy becoming': 185,\n",
       " 'hierarchy becoming general': 95,\n",
       " 'becoming general secretary': 23,\n",
       " 'modi appointed': 152,\n",
       " 'appointed chief': 13,\n",
       " 'gujarat elected': 84,\n",
       " 'elected legislative': 61,\n",
       " 'legislative assembly': 126,\n",
       " 'assembly soon': 17,\n",
       " 'modi appointed chief': 153,\n",
       " 'appointed chief minister': 14,\n",
       " 'minister gujarat elected': 142,\n",
       " 'gujarat elected legislative': 85,\n",
       " 'elected legislative assembly': 62,\n",
       " 'legislative assembly soon': 127,\n",
       " 'administration considered': 6,\n",
       " 'considered complicit': 41,\n",
       " 'complicit gujarat': 39,\n",
       " 'gujarat riot': 88,\n",
       " 'riot criticised': 210,\n",
       " 'criticised management': 49,\n",
       " 'management crisis': 132,\n",
       " 'administration considered complicit': 7,\n",
       " 'considered complicit gujarat': 42,\n",
       " 'complicit gujarat riot': 40,\n",
       " 'gujarat riot criticised': 89,\n",
       " 'riot criticised management': 211,\n",
       " 'criticised management crisis': 50,\n",
       " 'according official': 2,\n",
       " 'official record': 174,\n",
       " 'record little': 206,\n",
       " 'little people': 128,\n",
       " 'people killed': 186,\n",
       " 'killed three': 121,\n",
       " 'three quarter': 240,\n",
       " 'quarter muslim': 200,\n",
       " 'muslim independent': 165,\n",
       " 'independent source': 100,\n",
       " 'source estimated': 228,\n",
       " 'estimated death': 67,\n",
       " 'death mostly': 53,\n",
       " 'mostly muslim': 163,\n",
       " 'according official record': 3,\n",
       " 'official record little': 175,\n",
       " 'record little people': 207,\n",
       " 'little people killed': 129,\n",
       " 'people killed three': 187,\n",
       " 'killed three quarter': 122,\n",
       " 'three quarter muslim': 241,\n",
       " 'quarter muslim independent': 201,\n",
       " 'muslim independent source': 166,\n",
       " 'independent source estimated': 101,\n",
       " 'source estimated death': 229,\n",
       " 'estimated death mostly': 68,\n",
       " 'death mostly muslim': 54,\n",
       " 'special investigation': 230,\n",
       " 'investigation team': 115,\n",
       " 'team appointed': 236,\n",
       " 'appointed supreme': 15,\n",
       " 'supreme court': 232,\n",
       " 'court india': 43,\n",
       " 'india found': 103,\n",
       " 'found evidence': 73,\n",
       " 'evidence initiate': 69,\n",
       " 'initiate prosecution': 111,\n",
       " 'prosecution proceeding': 197,\n",
       " 'special investigation team': 231,\n",
       " 'investigation team appointed': 116,\n",
       " 'team appointed supreme': 237,\n",
       " 'appointed supreme court': 16,\n",
       " 'supreme court india': 233,\n",
       " 'court india found': 44,\n",
       " 'india found evidence': 104,\n",
       " 'found evidence initiate': 74,\n",
       " 'evidence initiate prosecution': 70,\n",
       " 'initiate prosecution proceeding': 112,\n",
       " 'policy chief': 188,\n",
       " 'minister credited': 139,\n",
       " 'credited encouraging': 45,\n",
       " 'encouraging economic': 63,\n",
       " 'economic growth': 57,\n",
       " 'growth administration': 80,\n",
       " 'administration criticised': 8,\n",
       " 'criticised failing': 47,\n",
       " 'failing significantly': 71,\n",
       " 'significantly improve': 223,\n",
       " 'improve health': 98,\n",
       " 'health poverty': 92,\n",
       " 'poverty education': 192,\n",
       " 'education index': 59,\n",
       " 'index state': 102,\n",
       " 'policy chief minister': 189,\n",
       " 'chief minister credited': 35,\n",
       " 'minister credited encouraging': 140,\n",
       " 'credited encouraging economic': 46,\n",
       " 'encouraging economic growth': 64,\n",
       " 'economic growth administration': 58,\n",
       " 'growth administration criticised': 81,\n",
       " 'administration criticised failing': 9,\n",
       " 'criticised failing significantly': 48,\n",
       " 'failing significantly improve': 72,\n",
       " 'significantly improve health': 224,\n",
       " 'improve health poverty': 99,\n",
       " 'health poverty education': 93,\n",
       " 'poverty education index': 193,\n",
       " 'education index state': 60}"
      ]
     },
     "execution_count": 282,
     "metadata": {},
     "output_type": "execute_result"
    }
   ],
   "source": [
    "cv.vocabulary_"
   ]
  },
  {
   "cell_type": "code",
   "execution_count": 283,
   "metadata": {},
   "outputs": [
    {
     "data": {
      "text/plain": [
       "array([[0, 0, 0, 0, 0, 0, 0, 0, 0, 0, 0, 0, 0, 0, 0, 0, 0, 0, 0, 0, 0, 0,\n",
       "        0, 0, 0, 0, 0, 0, 0, 0, 0, 0, 1, 1, 0, 0, 0, 0, 0, 0, 0, 0, 0, 0,\n",
       "        0, 0, 0, 0, 0, 0, 0, 1, 1, 0, 0, 0, 0, 0, 0, 0, 0, 0, 0, 0, 0, 1,\n",
       "        1, 0, 0, 0, 0, 0, 0, 0, 0, 0, 0, 0, 0, 0, 0, 0, 0, 0, 0, 0, 0, 0,\n",
       "        0, 0, 1, 1, 0, 0, 0, 0, 0, 0, 0, 0, 0, 0, 0, 0, 0, 1, 1, 0, 0, 1,\n",
       "        1, 0, 0, 0, 0, 0, 0, 0, 0, 0, 0, 0, 0, 0, 0, 0, 0, 0, 0, 0, 0, 0,\n",
       "        0, 0, 0, 0, 0, 0, 0, 0, 0, 0, 0, 0, 1, 1, 0, 0, 1, 1, 0, 0, 0, 0,\n",
       "        0, 0, 1, 0, 1, 0, 0, 1, 1, 0, 0, 0, 0, 1, 1, 0, 0, 0, 0, 0, 0, 0,\n",
       "        0, 0, 0, 0, 0, 0, 0, 0, 0, 0, 0, 0, 0, 0, 1, 1, 0, 0, 1, 1, 0, 0,\n",
       "        0, 0, 0, 0, 0, 0, 0, 0, 0, 0, 0, 0, 0, 0, 0, 0, 0, 0, 0, 1, 1, 1,\n",
       "        1, 0, 0, 0, 0, 1, 0, 0, 0, 0, 0, 0, 0, 0, 0, 0, 0, 0, 1, 1, 0, 0,\n",
       "        0, 0, 0, 0, 0, 0, 0, 0]], dtype=int64)"
      ]
     },
     "execution_count": 283,
     "metadata": {},
     "output_type": "execute_result"
    }
   ],
   "source": [
    "X[0].toarray()"
   ]
  },
  {
   "cell_type": "code",
   "execution_count": 287,
   "metadata": {},
   "outputs": [],
   "source": [
    "#TF_IDF\n",
    "from sklearn.feature_extraction.text import TfidfVectorizer\n",
    "cv=TfidfVectorizer()\n"
   ]
  },
  {
   "cell_type": "code",
   "execution_count": 289,
   "metadata": {},
   "outputs": [],
   "source": [
    "X=cv.fit_transform(Corpus)"
   ]
  },
  {
   "cell_type": "code",
   "execution_count": 290,
   "metadata": {},
   "outputs": [
    {
     "data": {
      "text/plain": [
       "{'narendra': 70,\n",
       " 'damodardas': 22,\n",
       " 'modi': 66,\n",
       " 'gujarati': 40,\n",
       " 'end': 30,\n",
       " 'mod': 65,\n",
       " 'born': 12,\n",
       " 'september': 99,\n",
       " 'indian': 48,\n",
       " 'politician': 82,\n",
       " 'served': 100,\n",
       " 'th': 111,\n",
       " 'prime': 84,\n",
       " 'minister': 64,\n",
       " 'india': 47,\n",
       " 'since': 103,\n",
       " 'may': 62,\n",
       " 'chief': 13,\n",
       " 'gujarat': 39,\n",
       " 'member': 63,\n",
       " 'parliament': 78,\n",
       " 'mp': 68,\n",
       " 'varanasi': 115,\n",
       " 'bharatiya': 10,\n",
       " 'janata': 52,\n",
       " 'party': 79,\n",
       " 'bjp': 11,\n",
       " 'rashtriya': 90,\n",
       " 'swayamsevak': 109,\n",
       " 'sangh': 96,\n",
       " 'right': 93,\n",
       " 'wing': 117,\n",
       " 'hindu': 43,\n",
       " 'nationalist': 72,\n",
       " 'paramilitary': 77,\n",
       " 'volunteer': 116,\n",
       " 'organisation': 75,\n",
       " 'longest': 59,\n",
       " 'serving': 101,\n",
       " 'outside': 76,\n",
       " 'national': 71,\n",
       " 'congress': 16,\n",
       " 'raised': 89,\n",
       " 'vadnagar': 114,\n",
       " 'northeastern': 73,\n",
       " 'completed': 14,\n",
       " 'secondary': 97,\n",
       " 'education': 26,\n",
       " 'introduced': 50,\n",
       " 'age': 4,\n",
       " 'eight': 27,\n",
       " 'married': 61,\n",
       " 'jashodaben': 53,\n",
       " 'abandoned': 0,\n",
       " 'soon': 104,\n",
       " 'publicly': 87,\n",
       " 'acknowledging': 2,\n",
       " 'four': 35,\n",
       " 'decade': 24,\n",
       " 'later': 55,\n",
       " 'legally': 56,\n",
       " 'required': 92,\n",
       " 'became': 8,\n",
       " 'full': 36,\n",
       " 'time': 113,\n",
       " 'worker': 118,\n",
       " 'assigned': 7,\n",
       " 'rose': 95,\n",
       " 'hierarchy': 42,\n",
       " 'becoming': 9,\n",
       " 'general': 37,\n",
       " 'secretary': 98,\n",
       " 'appointed': 5,\n",
       " 'elected': 28,\n",
       " 'legislative': 57,\n",
       " 'assembly': 6,\n",
       " 'administration': 3,\n",
       " 'considered': 17,\n",
       " 'complicit': 15,\n",
       " 'riot': 94,\n",
       " 'criticised': 21,\n",
       " 'management': 60,\n",
       " 'crisis': 20,\n",
       " 'according': 1,\n",
       " 'official': 74,\n",
       " 'record': 91,\n",
       " 'little': 58,\n",
       " 'people': 80,\n",
       " 'killed': 54,\n",
       " 'three': 112,\n",
       " 'quarter': 88,\n",
       " 'muslim': 69,\n",
       " 'independent': 45,\n",
       " 'source': 105,\n",
       " 'estimated': 31,\n",
       " 'death': 23,\n",
       " 'mostly': 67,\n",
       " 'special': 106,\n",
       " 'investigation': 51,\n",
       " 'team': 110,\n",
       " 'supreme': 108,\n",
       " 'court': 18,\n",
       " 'found': 34,\n",
       " 'evidence': 32,\n",
       " 'initiate': 49,\n",
       " 'prosecution': 86,\n",
       " 'proceeding': 85,\n",
       " 'policy': 81,\n",
       " 'credited': 19,\n",
       " 'encouraging': 29,\n",
       " 'economic': 25,\n",
       " 'growth': 38,\n",
       " 'failing': 33,\n",
       " 'significantly': 102,\n",
       " 'improve': 44,\n",
       " 'health': 41,\n",
       " 'poverty': 83,\n",
       " 'index': 46,\n",
       " 'state': 107}"
      ]
     },
     "execution_count": 290,
     "metadata": {},
     "output_type": "execute_result"
    }
   ],
   "source": [
    "cv.vocabulary_"
   ]
  },
  {
   "cell_type": "code",
   "execution_count": 292,
   "metadata": {},
   "outputs": [
    {
     "data": {
      "text/plain": [
       "array([[0.        , 0.        , 0.        , 0.        , 0.        ,\n",
       "        0.        , 0.        , 0.        , 0.        , 0.        ,\n",
       "        0.        , 0.        , 0.21819557, 0.        , 0.        ,\n",
       "        0.        , 0.        , 0.        , 0.        , 0.        ,\n",
       "        0.        , 0.        , 0.25128139, 0.        , 0.        ,\n",
       "        0.        , 0.        , 0.        , 0.        , 0.        ,\n",
       "        0.25128139, 0.        , 0.        , 0.        , 0.        ,\n",
       "        0.        , 0.        , 0.        , 0.        , 0.        ,\n",
       "        0.25128139, 0.        , 0.        , 0.        , 0.        ,\n",
       "        0.        , 0.        , 0.21819557, 0.21819557, 0.        ,\n",
       "        0.        , 0.        , 0.        , 0.        , 0.        ,\n",
       "        0.        , 0.        , 0.        , 0.        , 0.        ,\n",
       "        0.        , 0.        , 0.25128139, 0.        , 0.161635  ,\n",
       "        0.25128139, 0.29811271, 0.        , 0.        , 0.        ,\n",
       "        0.25128139, 0.        , 0.        , 0.        , 0.        ,\n",
       "        0.        , 0.        , 0.        , 0.        , 0.        ,\n",
       "        0.        , 0.        , 0.25128139, 0.        , 0.21819557,\n",
       "        0.        , 0.        , 0.        , 0.        , 0.        ,\n",
       "        0.        , 0.        , 0.        , 0.        , 0.        ,\n",
       "        0.        , 0.        , 0.        , 0.        , 0.25128139,\n",
       "        0.25128139, 0.        , 0.        , 0.25128139, 0.        ,\n",
       "        0.        , 0.        , 0.        , 0.        , 0.        ,\n",
       "        0.        , 0.25128139, 0.        , 0.        , 0.        ,\n",
       "        0.        , 0.        , 0.        , 0.        ]])"
      ]
     },
     "execution_count": 292,
     "metadata": {},
     "output_type": "execute_result"
    }
   ],
   "source": [
    "X[0].toarray()"
   ]
  },
  {
   "cell_type": "code",
   "execution_count": 293,
   "metadata": {},
   "outputs": [
    {
     "data": {
      "text/plain": [
       "array([[0.        , 0.        , 0.        , 0.        , 0.        ,\n",
       "        0.        , 0.        , 0.        , 0.        , 0.        ,\n",
       "        0.        , 0.        , 0.        , 0.        , 0.        ,\n",
       "        0.        , 0.        , 0.        , 0.        , 0.        ,\n",
       "        0.        , 0.        , 0.        , 0.        , 0.        ,\n",
       "        0.        , 0.        , 0.        , 0.        , 0.        ,\n",
       "        0.        , 0.        , 0.17539002, 0.17539002, 0.        ,\n",
       "        0.        , 0.        , 0.        , 0.        , 0.        ,\n",
       "        0.        , 0.        , 0.        , 0.        , 0.        ,\n",
       "        0.        , 0.        , 0.        , 0.        , 0.        ,\n",
       "        0.        , 0.17539002, 0.17539002, 0.        , 0.        ,\n",
       "        0.        , 0.        , 0.        , 0.        , 0.        ,\n",
       "        0.        , 0.        , 0.        , 0.        , 0.        ,\n",
       "        0.17539002, 0.17539002, 0.        , 0.        , 0.        ,\n",
       "        0.        , 0.        , 0.        , 0.        , 0.        ,\n",
       "        0.        , 0.        , 0.        , 0.        , 0.        ,\n",
       "        0.        , 0.        , 0.        , 0.        , 0.        ,\n",
       "        0.        , 0.        , 0.        , 0.        , 0.        ,\n",
       "        0.17539002, 0.17539002, 0.        , 0.        , 0.        ,\n",
       "        0.        , 0.        , 0.        , 0.        , 0.        ,\n",
       "        0.        , 0.        , 0.        , 0.        , 0.        ,\n",
       "        0.17539002, 0.17539002, 0.        , 0.        , 0.17539002,\n",
       "        0.17539002, 0.        , 0.        , 0.        , 0.        ,\n",
       "        0.        , 0.        , 0.        , 0.        , 0.        ,\n",
       "        0.        , 0.        , 0.        , 0.        , 0.        ,\n",
       "        0.        , 0.        , 0.        , 0.        , 0.        ,\n",
       "        0.        , 0.        , 0.        , 0.        , 0.        ,\n",
       "        0.        , 0.        , 0.        , 0.        , 0.        ,\n",
       "        0.        , 0.        , 0.        , 0.        , 0.17539002,\n",
       "        0.17539002, 0.        , 0.        , 0.17539002, 0.17539002,\n",
       "        0.        , 0.        , 0.        , 0.        , 0.        ,\n",
       "        0.        , 0.1522967 , 0.        , 0.17539002, 0.        ,\n",
       "        0.        , 0.17539002, 0.17539002, 0.        , 0.        ,\n",
       "        0.        , 0.        , 0.17539002, 0.17539002, 0.        ,\n",
       "        0.        , 0.        , 0.        , 0.        , 0.        ,\n",
       "        0.        , 0.        , 0.        , 0.        , 0.        ,\n",
       "        0.        , 0.        , 0.        , 0.        , 0.        ,\n",
       "        0.        , 0.        , 0.        , 0.        , 0.        ,\n",
       "        0.17539002, 0.17539002, 0.        , 0.        , 0.1522967 ,\n",
       "        0.17539002, 0.        , 0.        , 0.        , 0.        ,\n",
       "        0.        , 0.        , 0.        , 0.        , 0.        ,\n",
       "        0.        , 0.        , 0.        , 0.        , 0.        ,\n",
       "        0.        , 0.        , 0.        , 0.        , 0.        ,\n",
       "        0.        , 0.        , 0.17539002, 0.17539002, 0.17539002,\n",
       "        0.17539002, 0.        , 0.        , 0.        , 0.        ,\n",
       "        0.17539002, 0.        , 0.        , 0.        , 0.        ,\n",
       "        0.        , 0.        , 0.        , 0.        , 0.        ,\n",
       "        0.        , 0.        , 0.        , 0.17539002, 0.17539002,\n",
       "        0.        , 0.        , 0.        , 0.        , 0.        ,\n",
       "        0.        , 0.        , 0.        , 0.        , 0.        ]])"
      ]
     },
     "execution_count": 293,
     "metadata": {},
     "output_type": "execute_result"
    }
   ],
   "source": [
    "#TF_IDF\n",
    "from sklearn.feature_extraction.text import TfidfVectorizer\n",
    "cv=TfidfVectorizer(ngram_range=(2,3))\n",
    "X=cv.fit_transform(Corpus)\n",
    "X[0].toarray()"
   ]
  },
  {
   "cell_type": "code",
   "execution_count": 296,
   "metadata": {},
   "outputs": [
    {
     "data": {
      "text/plain": [
       "array([[0.        , 0.        , 0.        , 0.        , 0.46361326,\n",
       "        0.53391268, 0.53391268, 0.        , 0.        , 0.46361326]])"
      ]
     },
     "execution_count": 296,
     "metadata": {},
     "output_type": "execute_result"
    }
   ],
   "source": [
    "#TF_IDF\n",
    "from sklearn.feature_extraction.text import TfidfVectorizer\n",
    "cv=TfidfVectorizer(ngram_range=(2,3),max_features=10)# top max features(top 10 features)\n",
    "X=cv.fit_transform(Corpus)\n",
    "X[0].toarray()"
   ]
  },
  {
   "cell_type": "code",
   "execution_count": null,
   "metadata": {},
   "outputs": [],
   "source": []
  }
 ],
 "metadata": {
  "kernelspec": {
   "display_name": "Python 3 (ipykernel)",
   "language": "python",
   "name": "python3"
  },
  "language_info": {
   "codemirror_mode": {
    "name": "ipython",
    "version": 3
   },
   "file_extension": ".py",
   "mimetype": "text/x-python",
   "name": "python",
   "nbconvert_exporter": "python",
   "pygments_lexer": "ipython3",
   "version": "3.9.12"
  }
 },
 "nbformat": 4,
 "nbformat_minor": 4
}
